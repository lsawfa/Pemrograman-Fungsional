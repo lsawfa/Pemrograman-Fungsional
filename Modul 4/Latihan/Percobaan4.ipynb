{
 "cells": [
  {
   "attachments": {},
   "cell_type": "markdown",
   "metadata": {},
   "source": [
    "Percobaan 4 (transformasi)"
   ]
  },
  {
   "attachments": {},
   "cell_type": "markdown",
   "metadata": {},
   "source": [
    "- Nama: Larynt Sawfa Kenanga\n",
    "- NIM: 202110370311189\n",
    "- Kelas: Pemrograman Fungsional A"
   ]
  },
  {
   "cell_type": "code",
   "execution_count": 7,
   "metadata": {},
   "outputs": [],
   "source": [
    "import math"
   ]
  },
  {
   "cell_type": "code",
   "execution_count": 8,
   "metadata": {},
   "outputs": [],
   "source": [
    "def translasi(tx, ty):\n",
    "    def transformasi_translasi(x, y):\n",
    "        new_x = x + tx\n",
    "        new_y = y + ty\n",
    "        return new_x, new_y\n",
    "    return transformasi_translasi\n",
    "\n",
    "def dilatasi(sx, sy):\n",
    "    def transformasi_dilatasi(x, y):\n",
    "        new_x = x * sx\n",
    "        new_y = y * sy\n",
    "        return new_x, new_y\n",
    "    return transformasi_dilatasi\n",
    "\n",
    "def rotasi(sudut):\n",
    "    def transformasi_rotasi(x, y):\n",
    "        radian = math.radians(sudut)\n",
    "        new_x = x * math.cos(radian) - y * math.sin(radian)\n",
    "        new_y = x * math.sin(radian) + y * math.cos(radian)\n",
    "        return new_x, new_y\n",
    "    return transformasi_rotasi"
   ]
  },
  {
   "cell_type": "code",
   "execution_count": 9,
   "metadata": {},
   "outputs": [
    {
     "name": "stdout",
     "output_type": "stream",
     "text": [
      "Koordinat setelah translasi: (5, 4)\n",
      "Koordinat setelah dilatasi: (6, -5)\n",
      "Koordinat setelah rotasi: (0.09807621135331646, 5.830127018922194)\n"
     ]
    }
   ],
   "source": [
    "# Koordinat awal\n",
    "x, y = 3, 5\n",
    "\n",
    "# 1. Translasi\n",
    "translasi_func = translasi(2, -1)\n",
    "new_coord_translasi = translasi_func(x, y)\n",
    "print(\"Koordinat setelah translasi:\", new_coord_translasi)\n",
    "\n",
    "# 2. Dilatasi\n",
    "dilatasi_func = dilatasi(2, -1)\n",
    "new_coord_dilatasi = dilatasi_func(x, y)\n",
    "print(\"Koordinat setelah dilatasi:\", new_coord_dilatasi)\n",
    "\n",
    "# 3. Rotasi\n",
    "rotasi_func = rotasi(30)\n",
    "new_coord_rotasi = rotasi_func(x, y)\n",
    "print(\"Koordinat setelah rotasi:\", new_coord_rotasi)"
   ]
  }
 ],
 "metadata": {
  "kernelspec": {
   "display_name": "Python 3",
   "language": "python",
   "name": "python3"
  },
  "language_info": {
   "codemirror_mode": {
    "name": "ipython",
    "version": 3
   },
   "file_extension": ".py",
   "mimetype": "text/x-python",
   "name": "python",
   "nbconvert_exporter": "python",
   "pygments_lexer": "ipython3",
   "version": "3.11.2"
  },
  "orig_nbformat": 4
 },
 "nbformat": 4,
 "nbformat_minor": 2
}
