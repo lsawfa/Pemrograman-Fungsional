{
 "cells": [
  {
   "attachments": {},
   "cell_type": "markdown",
   "metadata": {},
   "source": [
    "Percobaan 3 (penerapan multiple decorators to single function)"
   ]
  },
  {
   "attachments": {},
   "cell_type": "markdown",
   "metadata": {},
   "source": [
    "- Nama: Larynt Sawfa Kenanga\n",
    "- NIM: 202110370311189\n",
    "- Kelas: Pemrograman Fungsional A"
   ]
  },
  {
   "cell_type": "code",
   "execution_count": 4,
   "metadata": {},
   "outputs": [],
   "source": [
    "def title_decorator(function):\n",
    "    def wrapper():\n",
    "        func = function()\n",
    "        make_title = func.title()\n",
    "        print(make_title + \"-Data is converted to title case\")\n",
    "        return make_title\n",
    "    return wrapper\n",
    "\n",
    "def split_string(function):\n",
    "    def wrapper():\n",
    "        func = function()\n",
    "        splitted_string = func.split()\n",
    "        print(str(splitted_string) + \" - Then data is splitted\")\n",
    "        return splitted_string\n",
    "    return wrapper"
   ]
  },
  {
   "cell_type": "code",
   "execution_count": 5,
   "metadata": {},
   "outputs": [],
   "source": [
    "@split_string\n",
    "@title_decorator\n",
    "def say_hi():\n",
    "    return 'hello there'"
   ]
  },
  {
   "cell_type": "code",
   "execution_count": 6,
   "metadata": {},
   "outputs": [
    {
     "name": "stdout",
     "output_type": "stream",
     "text": [
      "Hello There-Data is converted to title case\n",
      "['Hello', 'There'] - Then data is splitted\n",
      "['Hello', 'There']\n"
     ]
    }
   ],
   "source": [
    "result = say_hi()\n",
    "print(result)"
   ]
  }
 ],
 "metadata": {
  "kernelspec": {
   "display_name": "Python 3",
   "language": "python",
   "name": "python3"
  },
  "language_info": {
   "codemirror_mode": {
    "name": "ipython",
    "version": 3
   },
   "file_extension": ".py",
   "mimetype": "text/x-python",
   "name": "python",
   "nbconvert_exporter": "python",
   "pygments_lexer": "ipython3",
   "version": "3.11.2"
  },
  "orig_nbformat": 4
 },
 "nbformat": 4,
 "nbformat_minor": 2
}
