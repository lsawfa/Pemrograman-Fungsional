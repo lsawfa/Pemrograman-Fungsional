{
 "cells": [
  {
   "attachments": {},
   "cell_type": "markdown",
   "metadata": {},
   "source": [
    "Percobaan 5 (mencari persamaan garis melalui 2 titik)\n",
    "\n",
    "Soal NIM Ganjil"
   ]
  },
  {
   "attachments": {},
   "cell_type": "markdown",
   "metadata": {},
   "source": [
    "- Nama: Larynt Sawfa Kenanga\n",
    "- NIM: 202110370311189\n",
    "- Kelas: Pemrograman Fungsional A"
   ]
  },
  {
   "cell_type": "code",
   "execution_count": 7,
   "metadata": {},
   "outputs": [],
   "source": [
    "def point(x, y):\n",
    "    return x, y"
   ]
  },
  {
   "cell_type": "code",
   "execution_count": 8,
   "metadata": {},
   "outputs": [],
   "source": [
    "def line_equation_of(p1, p2):\n",
    "    #TODO 1: gunakan inner function dan closure untuk menghitung nilai M\n",
    "    def calculate_m():\n",
    "        delta_y = p2[1] - p1[1]\n",
    "        delta_x = p2[0] - p1[0]\n",
    "        return delta_y / delta_x\n",
    "    #TODO 2: panggil fungsi inner untuk mendapatkan nilai M\n",
    "    M = calculate_m()\n",
    "    #TODO 3: tulis rumus untuk mendapatkan nilai C disini\n",
    "    C = p1[1] - M * p1[0]\n",
    "    return f\"y = {M:.2f}x + {C:.2f}\""
   ]
  },
  {
   "cell_type": "code",
   "execution_count": 9,
   "metadata": {},
   "outputs": [
    {
     "name": "stdout",
     "output_type": "stream",
     "text": [
      "Persamaan garis yang melalui titik A(1, 1) dan B(8, 9):\n",
      "y = 1.14x + -0.14\n"
     ]
    }
   ],
   "source": [
    "# Ubah nilai input dengan 4 digit NIM akhir\n",
    "print(\"Persamaan garis yang melalui titik A(1, 1) dan B(8, 9):\")\n",
    "print(line_equation_of(point(1, 1), point(8, 9)))"
   ]
  }
 ],
 "metadata": {
  "kernelspec": {
   "display_name": "Python 3",
   "language": "python",
   "name": "python3"
  },
  "language_info": {
   "codemirror_mode": {
    "name": "ipython",
    "version": 3
   },
   "file_extension": ".py",
   "mimetype": "text/x-python",
   "name": "python",
   "nbconvert_exporter": "python",
   "pygments_lexer": "ipython3",
   "version": "3.11.2"
  },
  "orig_nbformat": 4
 },
 "nbformat": 4,
 "nbformat_minor": 2
}
