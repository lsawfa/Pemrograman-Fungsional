{
 "cells": [
  {
   "attachments": {},
   "cell_type": "markdown",
   "metadata": {},
   "source": [
    "Percobaan 1 (penerapan closure dengan currying)"
   ]
  },
  {
   "attachments": {},
   "cell_type": "markdown",
   "metadata": {},
   "source": [
    "- Nama: Larynt Sawfa Kenanga\n",
    "- NIM: 202110370311189\n",
    "- Kelas: Pemrograman Fungsional A"
   ]
  },
  {
   "cell_type": "code",
   "execution_count": 8,
   "metadata": {},
   "outputs": [],
   "source": [
    "# Curry function\n",
    "def perkalian(a):\n",
    "    def dengan(b):\n",
    "        return a * b\n",
    "    return dengan  # mengembalikan fungsi inner operation"
   ]
  },
  {
   "attachments": {},
   "cell_type": "markdown",
   "metadata": {},
   "source": [
    "Menggunakan High-Order Function (HOF)"
   ]
  },
  {
   "cell_type": "code",
   "execution_count": 9,
   "metadata": {},
   "outputs": [],
   "source": [
    "def panggil_dengan_hof():\n",
    "    fungsi_kali_dua = perkalian(2)\n",
    "    hasil = fungsi_kali_dua(5)\n",
    "    print(\"Hasil HOF:\", hasil)"
   ]
  },
  {
   "cell_type": "code",
   "execution_count": 10,
   "metadata": {},
   "outputs": [
    {
     "name": "stdout",
     "output_type": "stream",
     "text": [
      "Hasil HOF: 10\n"
     ]
    }
   ],
   "source": [
    "# Panggil fungsi menggunakan HOF\n",
    "panggil_dengan_hof()"
   ]
  },
  {
   "attachments": {},
   "cell_type": "markdown",
   "metadata": {},
   "source": [
    "Menggunakan Currying"
   ]
  },
  {
   "cell_type": "code",
   "execution_count": 11,
   "metadata": {},
   "outputs": [],
   "source": [
    "def panggil_dengan_currying():\n",
    "    hasil = perkalian(2)(5)\n",
    "    print(\"Hasil Currying:\", hasil)"
   ]
  },
  {
   "cell_type": "code",
   "execution_count": 12,
   "metadata": {},
   "outputs": [
    {
     "name": "stdout",
     "output_type": "stream",
     "text": [
      "Hasil Currying: 10\n"
     ]
    }
   ],
   "source": [
    "# Panggil fungsi menggunakan Currying\n",
    "panggil_dengan_currying()"
   ]
  }
 ],
 "metadata": {
  "kernelspec": {
   "display_name": "Python 3",
   "language": "python",
   "name": "python3"
  },
  "language_info": {
   "codemirror_mode": {
    "name": "ipython",
    "version": 3
   },
   "file_extension": ".py",
   "mimetype": "text/x-python",
   "name": "python",
   "nbconvert_exporter": "python",
   "pygments_lexer": "ipython3",
   "version": "3.11.2"
  },
  "orig_nbformat": 4
 },
 "nbformat": 4,
 "nbformat_minor": 2
}
