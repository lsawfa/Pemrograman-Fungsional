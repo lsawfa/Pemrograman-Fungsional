{
 "cells": [
  {
   "attachments": {},
   "cell_type": "markdown",
   "metadata": {},
   "source": [
    "Percobaan 6 (mencari persamaan garis melalui 1 titik)"
   ]
  },
  {
   "attachments": {},
   "cell_type": "markdown",
   "metadata": {},
   "source": [
    "- Nama: Larynt Sawfa Kenanga\n",
    "- NIM: 202110370311189\n",
    "- Kelas: Pemrograman Fungsional A"
   ]
  },
  {
   "cell_type": "code",
   "execution_count": 4,
   "metadata": {},
   "outputs": [],
   "source": [
    "def point(x, y):\n",
    "    return x, y"
   ]
  },
  {
   "cell_type": "code",
   "execution_count": 5,
   "metadata": {},
   "outputs": [],
   "source": [
    "def line_equation_of(x1, y1, M):\n",
    "    #TODO 1: tulis rumus untuk mendapatkan nilai C disini\n",
    "    C = y1 - M * x1\n",
    "    return f\"y = {M:.2f}x + {C:.2f}\""
   ]
  },
  {
   "cell_type": "code",
   "execution_count": 6,
   "metadata": {},
   "outputs": [
    {
     "name": "stdout",
     "output_type": "stream",
     "text": [
      "Persamaan garis yang melalui titik (1,8) dan bergradien 9:\n",
      "y = 9.00x + -1.00\n"
     ]
    }
   ],
   "source": [
    "# Ubah nilai input dengan 3 digit NIM akhir 189\n",
    "print(\"Persamaan garis yang melalui titik (1,8) dan bergradien 9:\")\n",
    "print(line_equation_of(1, 8, 9))"
   ]
  }
 ],
 "metadata": {
  "kernelspec": {
   "display_name": "Python 3",
   "language": "python",
   "name": "python3"
  },
  "language_info": {
   "codemirror_mode": {
    "name": "ipython",
    "version": 3
   },
   "file_extension": ".py",
   "mimetype": "text/x-python",
   "name": "python",
   "nbconvert_exporter": "python",
   "pygments_lexer": "ipython3",
   "version": "3.11.2"
  },
  "orig_nbformat": 4
 },
 "nbformat": 4,
 "nbformat_minor": 2
}
