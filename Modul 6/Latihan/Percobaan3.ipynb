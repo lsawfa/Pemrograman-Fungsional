{
 "cells": [
  {
   "cell_type": "code",
   "execution_count": 1,
   "id": "initial_id",
   "metadata": {
    "collapsed": true,
    "ExecuteTime": {
     "end_time": "2023-12-13T09:46:18.750245500Z",
     "start_time": "2023-12-13T09:46:15.209523400Z"
    }
   },
   "outputs": [],
   "source": [
    "from PIL import Image, ImageEnhance\n",
    "\n",
    "# TODO 1: Buka gambar menggunakan Pillow\n",
    "image_path = \"Image/hasil_edit_gambar_alpha.jpg\"\n",
    "original_image = Image.open(image_path)\n",
    "\n",
    "# TODO 2: Buat nilai contrast dan brightness baru yang berbeda\n",
    "brightness_factor = 1.5  \n",
    "contrast_factor = 1.2  \n",
    "\n",
    "enhancer = ImageEnhance.Brightness(original_image)\n",
    "brightened_image = enhancer.enhance(brightness_factor)\n",
    "\n",
    "enhancer = ImageEnhance.Contrast(brightened_image)\n",
    "final_image = enhancer.enhance(contrast_factor)\n",
    "\n",
    "# TODO 3: Simpan gambar hasil edit dengan nama \"brightness_contrast_image.jpg\"\n",
    "result_image_path = \"Image/brightness_contrast_image.jpg\"\n",
    "final_image.save(result_image_path)\n",
    "\n",
    "# TODO 4: Tampilkan hasilnya\n",
    "final_image.show()\n"
   ]
  },
  {
   "cell_type": "code",
   "execution_count": null,
   "outputs": [],
   "source": [],
   "metadata": {
    "collapsed": false
   },
   "id": "ad8094f90c1528f4"
  }
 ],
 "metadata": {
  "kernelspec": {
   "display_name": "Python 3",
   "language": "python",
   "name": "python3"
  },
  "language_info": {
   "codemirror_mode": {
    "name": "ipython",
    "version": 2
   },
   "file_extension": ".py",
   "mimetype": "text/x-python",
   "name": "python",
   "nbconvert_exporter": "python",
   "pygments_lexer": "ipython2",
   "version": "2.7.6"
  }
 },
 "nbformat": 4,
 "nbformat_minor": 5
}
