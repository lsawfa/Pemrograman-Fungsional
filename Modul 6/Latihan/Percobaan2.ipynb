{
 "cells": [
  {
   "cell_type": "markdown",
   "source": [
    "## WITHOUT ALPHA CHANNEL"
   ],
   "metadata": {
    "collapsed": false
   },
   "id": "e482c1f51c558dec"
  },
  {
   "cell_type": "code",
   "execution_count": 12,
   "id": "initial_id",
   "metadata": {
    "collapsed": true,
    "ExecuteTime": {
     "end_time": "2023-12-13T07:19:19.619346Z",
     "start_time": "2023-12-13T07:19:09.718549300Z"
    }
   },
   "outputs": [],
   "source": [
    "from PIL import Image\n",
    "\n",
    "# TODO 1 : Buka gambar latar belakang (background) dan gambar yang ingin disisipkan (overlay)\n",
    "background_image = Image.open(\"Image/pink_bg.jpg\")\n",
    "overlay_image = Image.open(\"Image/overlay.png\")\n",
    "\n",
    "# TODO 2 : Konversi overlay image ke mode RGB (menghilangkan alpha channel)\n",
    "overlay_image = overlay_image.convert(\"RGB\")\n",
    "overlay_image.load()\n",
    "\n",
    "# TODO 3 : (optional) Perkecil ukuran gambar overlay menggunakan method resize()\n",
    "width, height = overlay_image.size\n",
    "new_width = 200\n",
    "new_height = int((new_width / width) * height)\n",
    "overlay_image = overlay_image.resize((new_width, new_height), Image.LANCZOS)\n",
    "\n",
    "overlay_mask = overlay_image.convert(\"L\")\n",
    "\n",
    "x_center = (background_image.width - overlay_image.width) // 2\n",
    "y_center = (background_image.height - overlay_image.height) // 2\n",
    "\n",
    "# TODO 4 : Sisipkan gambar overlay ke dalam gambar background menggunakan method paste()\n",
    "background_image.paste(overlay_image, (x_center, y_center), mask=overlay_mask)\n",
    "\n",
    "# TODO 5 : Simpan gambar hasil edit\n",
    "background_image.save(\"Image/hasil_edit_gambar_noalpha.jpg\")\n",
    "\n",
    "# TODO 6 : Tampilkan\n",
    "background_image.show()\n"
   ]
  },
  {
   "cell_type": "markdown",
   "source": [
    "## WITH ALPHA CHANNEL"
   ],
   "metadata": {
    "collapsed": false
   },
   "id": "c45ccbfe0b5be894"
  },
  {
   "cell_type": "code",
   "execution_count": 13,
   "outputs": [],
   "source": [
    "from PIL import Image\n",
    "\n",
    "# TODO 1 : Buka gambar latar belakang (background) dan gambar yang ingin disisipkan (overlay)\n",
    "background_image = Image.open(\"Image/pink_bg.jpg\")\n",
    "overlay_image = Image.open(\"Image/overlay.png\")\n",
    "\n",
    "# TODO 2 : Konversi overlay image ke mode RGB (menghilangkan alpha channel)\n",
    "overlay_image = overlay_image.convert(\"RGBA\")\n",
    "overlay_image.load()\n",
    "\n",
    "# TODO 3 : (optional) Perkecil ukuran gambar overlay menggunakan method resize()\n",
    "width, height = overlay_image.size\n",
    "new_width = 200\n",
    "new_height = int((new_width / width) * height)\n",
    "overlay_image = overlay_image.resize((new_width, new_height), Image.LANCZOS)\n",
    "\n",
    "x_center = (background_image.width - overlay_image.width) // 2\n",
    "y_center = (background_image.height - overlay_image.height) // 2\n",
    "\n",
    "# TODO 4 : Sisipkan gambar overlay ke dalam gambar background menggunakan method paste()\n",
    "background_image.paste(overlay_image, (x_center, y_center), mask=overlay_image)\n",
    "\n",
    "# TODO 5 : Simpan gambar hasil edit\n",
    "background_image.save(\"Image/hasil_edit_gambar_alpha.jpg\")\n",
    "\n",
    "# TODO 6 : Tampilkan\n",
    "background_image.show()\n"
   ],
   "metadata": {
    "collapsed": false,
    "ExecuteTime": {
     "end_time": "2023-12-13T07:19:22.526466400Z",
     "start_time": "2023-12-13T07:19:18.360135600Z"
    }
   },
   "id": "1ba21bbfae5c5301"
  },
  {
   "cell_type": "code",
   "execution_count": 13,
   "outputs": [],
   "source": [],
   "metadata": {
    "collapsed": false,
    "ExecuteTime": {
     "end_time": "2023-12-13T07:19:22.545995200Z",
     "start_time": "2023-12-13T07:19:22.527830100Z"
    }
   },
   "id": "116de8a0d7554b87"
  }
 ],
 "metadata": {
  "kernelspec": {
   "display_name": "Python 3",
   "language": "python",
   "name": "python3"
  },
  "language_info": {
   "codemirror_mode": {
    "name": "ipython",
    "version": 2
   },
   "file_extension": ".py",
   "mimetype": "text/x-python",
   "name": "python",
   "nbconvert_exporter": "python",
   "pygments_lexer": "ipython2",
   "version": "2.7.6"
  }
 },
 "nbformat": 4,
 "nbformat_minor": 5
}
