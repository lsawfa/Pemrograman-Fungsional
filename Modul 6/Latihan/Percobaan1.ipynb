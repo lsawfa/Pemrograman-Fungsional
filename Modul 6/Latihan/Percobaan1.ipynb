{
 "cells": [
  {
   "cell_type": "code",
   "execution_count": 25,
   "outputs": [],
   "source": [
    "# TODO 0 : Import library lain yang dibutuhkan\n",
    "from PIL import Image, ImageDraw, ImageFont\n",
    "\n",
    "\n",
    "# TODO 1: Lakukan load image pada variabel berikut\n",
    "# hint: kalian bisa gunakan fungsi open()\n",
    "gambarku = Image.open(\"Image/flower.jpg\")\n",
    "\n",
    "\n",
    "# TODO 2: Ubah gambar menjadi hitam-putih\n",
    "# hint: kalian bisa gunakan fungsi convert()\n",
    "gambarBW = gambarku.convert(\"L\")\n",
    "\n",
    "\n",
    "# TODO 3: Tambahkan text sesuai kriteria.\n",
    "draw = ImageDraw.Draw(gambarBW)\n",
    "font = ImageFont.truetype(\"arial.ttf\", 24)\n",
    "text = \"Larynt Sawfa Kenanga 202110370311189\"\n",
    "text_width = draw.textlength(text, font)\n",
    "text_x = (gambarku.width - text_width) // 2\n",
    "text_y = 20\n",
    "draw.text((text_x, text_y), text, font=font, fill=\"black\")\n",
    "\n",
    "\n",
    "# TODO 4: Simpan gambar hasil edit menggunakan fungsi save()\n",
    "gambarBW.save(\"Image/percobaan_satu.jpg\")\n",
    "\n",
    "\n",
    "# TODO 5: Tampilkan hasil akhir gambar\n",
    "gambarBW.show()\n"
   ],
   "metadata": {
    "collapsed": false,
    "ExecuteTime": {
     "end_time": "2023-12-12T11:10:55.553749900Z",
     "start_time": "2023-12-12T11:10:48.395891200Z"
    }
   }
  },
  {
   "cell_type": "code",
   "execution_count": null,
   "outputs": [],
   "source": [],
   "metadata": {
    "collapsed": false
   }
  }
 ],
 "metadata": {
  "kernelspec": {
   "display_name": "Python 3",
   "language": "python",
   "name": "python3"
  },
  "language_info": {
   "codemirror_mode": {
    "name": "ipython",
    "version": 3
   },
   "file_extension": ".py",
   "mimetype": "text/x-python",
   "name": "python",
   "nbconvert_exporter": "python",
   "pygments_lexer": "ipython3",
   "version": "3.11.2"
  },
  "orig_nbformat": 4
 },
 "nbformat": 4,
 "nbformat_minor": 2
}
