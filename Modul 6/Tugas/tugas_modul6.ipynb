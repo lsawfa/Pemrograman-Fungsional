{
 "cells": [
  {
   "cell_type": "markdown",
   "source": [
    "## VERSI LOGO GRAYSCALE (ONLY USING PILLOW)"
   ],
   "metadata": {
    "collapsed": false
   },
   "id": "978fdc30603c3706"
  },
  {
   "cell_type": "code",
   "execution_count": 48,
   "outputs": [],
   "source": [
    "from PIL import Image, ImageOps, ImageDraw, ImageFont, ImageEnhance, ImageFilter\n",
    "\n",
    "# Load images\n",
    "background = Image.open(\"./Image/bg.jpg\")\n",
    "overlay = Image.open(\"./Image/logo.jpg\")\n",
    "font_path = \"./Font/arial.ttf\" \n",
    "\n",
    "# Resize background\n",
    "background = background.resize((1920, 1080))\n",
    "\n",
    "# Convert background to grayscale, rotate by 30 degrees, and apply blur\n",
    "bg_copy = ImageOps.grayscale(background.copy())\n",
    "rotated = bg_copy.rotate(30)\n",
    "final_bg = rotated.filter(ImageFilter.BLUR)\n",
    "\n",
    "# Enhance brightness and contrast of overlay\n",
    "enhancer = ImageEnhance.Brightness(overlay.copy())\n",
    "brightened = enhancer.enhance(1.89)\n",
    "\n",
    "enhancer = ImageEnhance.Contrast(brightened)\n",
    "contrasted = enhancer.enhance(1.89)\n",
    "final = contrasted.resize((600, 600))\n",
    "\n",
    "# Add text to the overlay\n",
    "padding = 170\n",
    "customFont = ImageFont.truetype(font_path, 24)\n",
    "draw = ImageDraw.Draw(final)\n",
    "text = \"INFORMATIKA JOSSS!\"\n",
    "text_width = draw.textlength(text, font=customFont)\n",
    "text_height = draw.textlength(text, font=customFont)\n",
    "text_position = ((final.width - text_width) // 2, final.height - text_height + padding)\n",
    "draw.text(text_position, text, font=customFont, fill=\"black\")\n",
    "\n",
    "final.save(\"./Image/final.jpg\")\n",
    "final_bg.save(\"./Image/final_bg.jpg\")\n",
    "\n",
    "# Paste the overlay onto the background\n",
    "final_bg.paste(final, (600, 300))\n",
    "\n",
    "# Show and save the final image\n",
    "final_bg.show()\n",
    "final_bg.save(\"./Image/tugas_praktikum_enam-v1.jpg\")\n"
   ],
   "metadata": {
    "collapsed": false,
    "ExecuteTime": {
     "end_time": "2023-12-20T08:16:20.006816600Z",
     "start_time": "2023-12-20T08:16:13.919962300Z"
    }
   },
   "id": "38553303824fb32a"
  },
  {
   "cell_type": "markdown",
   "source": [
    "# VERSI LOGO NON GRAYSCALE (USING PILLOW AND OPEN CV)"
   ],
   "metadata": {
    "collapsed": false
   },
   "id": "ca1dcc08d7f91c73"
  },
  {
   "cell_type": "code",
   "execution_count": 49,
   "outputs": [
    {
     "data": {
      "text/plain": "True"
     },
     "execution_count": 49,
     "metadata": {},
     "output_type": "execute_result"
    }
   ],
   "source": [
    "import cv2\n",
    "\n",
    "gambar1 = cv2.imread('./Image/final_bg.jpg')\n",
    "gambar2 = cv2.imread('./Image/final.jpg', cv2.IMREAD_UNCHANGED)\n",
    "\n",
    "# Mendapatkan tinggi dan lebar gambar 1\n",
    "tinggi_gambar1, lebar_gambar1 = gambar1.shape[:2]\n",
    "# Mendapatkan tinggi dan lebar gambar 2\n",
    "tinggi_gambar2, lebar_gambar2 = gambar2.shape[:2]\n",
    "\n",
    "# Menghitung koordinat untuk menempatkan gambar 2 di atas gambar 1\n",
    "y_pos = 0  # Anda dapat mengatur koordinat vertikal sesuai keinginan\n",
    "x_pos = int((lebar_gambar1 - lebar_gambar2) / 2)  # Menempatkan stiker di tengah gambar 1\n",
    "\n",
    "# Membuat ROI (Region of Interest) pada gambar 1 untuk menempatkan gambar 2\n",
    "roi = gambar1[y_pos:y_pos + tinggi_gambar2, x_pos:x_pos + lebar_gambar2]\n",
    "\n",
    "# Periksa apakah gambar2 memiliki saluran alpha\n",
    "if gambar2.shape[2] == 4:\n",
    "    # Mengambil saluran alpha (transparansi) dari gambar 2\n",
    "    alpha_channel = gambar2[:, :, 3]\n",
    "\n",
    "    # Membuat mask dari saluran alpha\n",
    "    mask = cv2.merge([alpha_channel, alpha_channel, alpha_channel])\n",
    "\n",
    "    # Menyusun gambar 2 ke ROI pada gambar 1 menggunakan mask\n",
    "    gambar1[y_pos:y_pos + tinggi_gambar2, x_pos:x_pos + lebar_gambar2] = cv2.addWeighted(roi, 1, gambar2[:, :, :3], 0.7, 0)\n",
    "else:\n",
    "    # Jika tidak ada saluran alpha, langsung tambahkan gambar 2 ke gambar 1\n",
    "    gambar1[y_pos:y_pos + tinggi_gambar2, x_pos:x_pos + lebar_gambar2] = gambar2[:, :, :3]\n",
    "\n",
    "# Menyimpan hasil gabungan\n",
    "cv2.imwrite('./Image/tugas-pratikum-enam-v2.jpg', gambar1)\n"
   ],
   "metadata": {
    "collapsed": false,
    "ExecuteTime": {
     "end_time": "2023-12-20T08:16:20.139727600Z",
     "start_time": "2023-12-20T08:16:20.006816600Z"
    }
   },
   "id": "73fe846f4ff0a48b"
  },
  {
   "cell_type": "code",
   "execution_count": 49,
   "outputs": [],
   "source": [],
   "metadata": {
    "collapsed": false,
    "ExecuteTime": {
     "end_time": "2023-12-20T08:16:20.240576800Z",
     "start_time": "2023-12-20T08:16:20.186331700Z"
    }
   },
   "id": "c5949736804993d0"
  }
 ],
 "metadata": {
  "kernelspec": {
   "display_name": "Python 3",
   "language": "python",
   "name": "python3"
  },
  "language_info": {
   "codemirror_mode": {
    "name": "ipython",
    "version": 2
   },
   "file_extension": ".py",
   "mimetype": "text/x-python",
   "name": "python",
   "nbconvert_exporter": "python",
   "pygments_lexer": "ipython2",
   "version": "2.7.6"
  }
 },
 "nbformat": 4,
 "nbformat_minor": 5
}
