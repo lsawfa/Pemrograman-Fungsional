{
 "cells": [
  {
   "cell_type": "code",
   "execution_count": 54,
   "outputs": [],
   "source": [
    "from PIL import Image, ImageOps, ImageDraw, ImageFont, ImageEnhance, ImageFilter\n",
    "\n",
    "# Load images\n",
    "background = Image.open(\"./Image/bg.jpg\")\n",
    "overlay = Image.open(\"./Image/logo.jpg\")\n",
    "font_path = \"./Font/arial.ttf\" \n",
    "\n",
    "# Resize background\n",
    "background = background.resize((1920, 1080))\n",
    "\n",
    "# Convert background to grayscale, rotate by 30 degrees, and apply blur\n",
    "bg_copy = ImageOps.grayscale(background.copy())\n",
    "rotated = bg_copy.rotate(30)\n",
    "final_bg = rotated.filter(ImageFilter.BLUR)\n",
    "\n",
    "# Enhance brightness and contrast of overlay\n",
    "enhancer = ImageEnhance.Brightness(overlay.copy())\n",
    "brightened = enhancer.enhance(1.89)\n",
    "\n",
    "enhancer = ImageEnhance.Contrast(brightened)\n",
    "contrasted = enhancer.enhance(1.89)\n",
    "final = contrasted.resize((600, 600))\n",
    "\n",
    "# Add text to the overlay\n",
    "padding = 170\n",
    "customFont = ImageFont.truetype(font_path, 24)\n",
    "draw = ImageDraw.Draw(final)\n",
    "text = \"INFORMATIKA JOSSS!\"\n",
    "text_width = draw.textlength(text, font=customFont)\n",
    "text_height = draw.textlength(text, font=customFont)\n",
    "text_position = ((final.width - text_width) // 2, final.height - text_height + padding)\n",
    "draw.text(text_position, text, font=customFont, fill=\"black\")\n",
    "\n",
    "# Paste the overlay onto the background\n",
    "final_bg.paste(final, (600, 300))\n",
    "\n",
    "# Show and save the final image\n",
    "final_bg.show()\n",
    "final_bg.save(\"./Image/tugas_praktikum_enam.jpg\")\n"
   ],
   "metadata": {
    "collapsed": false,
    "ExecuteTime": {
     "end_time": "2023-12-18T00:21:24.872528Z",
     "start_time": "2023-12-18T00:21:19.621605600Z"
    }
   },
   "id": "38553303824fb32a"
  },
  {
   "cell_type": "code",
   "execution_count": null,
   "outputs": [],
   "source": [],
   "metadata": {
    "collapsed": false
   },
   "id": "ec3059e129ff87d1"
  }
 ],
 "metadata": {
  "kernelspec": {
   "display_name": "Python 3",
   "language": "python",
   "name": "python3"
  },
  "language_info": {
   "codemirror_mode": {
    "name": "ipython",
    "version": 2
   },
   "file_extension": ".py",
   "mimetype": "text/x-python",
   "name": "python",
   "nbconvert_exporter": "python",
   "pygments_lexer": "ipython2",
   "version": "2.7.6"
  }
 },
 "nbformat": 4,
 "nbformat_minor": 5
}
